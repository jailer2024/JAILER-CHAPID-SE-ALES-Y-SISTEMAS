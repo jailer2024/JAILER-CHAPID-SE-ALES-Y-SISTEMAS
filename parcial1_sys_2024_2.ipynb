{
  "nbformat": 4,
  "nbformat_minor": 0,
  "metadata": {
    "colab": {
      "private_outputs": true,
      "provenance": [],
      "include_colab_link": true
    },
    "kernelspec": {
      "name": "python3",
      "display_name": "Python 3"
    },
    "language_info": {
      "name": "python"
    }
  },
  "cells": [
    {
      "cell_type": "markdown",
      "metadata": {
        "id": "view-in-github",
        "colab_type": "text"
      },
      "source": [
        "<a href=\"https://colab.research.google.com/github/jailer2024/JAILER-CHAPID-SE-ALES-Y-SISTEMAS/blob/main/parcial1_sys_2024_2.ipynb\" target=\"_parent\"><img src=\"https://colab.research.google.com/assets/colab-badge.svg\" alt=\"Open In Colab\"/></a>"
      ]
    },
    {
      "cell_type": "markdown",
      "source": [
        "# Parcial 1: Señales y Sistemas 2024-II\n",
        "\n",
        " ## Profesor: Andrés Marino Álvarez Meza, Ph.D.\n",
        "\n",
        "\n",
        "## Departamento de Ingeniería Eléctrica, Electrónica, y Computación\n",
        "## Universidad Nacional de Colombia - sede Manizales"
      ],
      "metadata": {
        "id": "1fWMHXCqNtQw"
      }
    },
    {
      "cell_type": "markdown",
      "source": [
        "# Instrucciones\n",
        "\n",
        "-- Para recibir el crédito total, sus respuestas deben estar justificadas de manera clara, detallada y concreta, mostrando los procedimientos y razonamientos paso a paso.\n",
        "\n",
        "-- Está permitido el uso de herramientas de inteligencia artificial (IA). Si las utiliza, por favor declare explícitamente cómo fueron empleadas en la resolución de cada pregunta. Incluya los prompts (consultas) y las iteraciones realizadas con las IA durante el desarrollo del parcial.\n",
        "\n",
        "-- La entrega del parcial debe realizarse antes de las 23:59 del 5 de diciembre de 2024 al correo electrónico amalvarezme@unal.edu.co mediante un enlace de GitHub.\n",
        "\n",
        "-- Los códigos deben estar debidamente comentados en las celdas correspondientes y explicados en celdas de texto (markdown). Los códigos que no incluyan comentarios ni discusiones no serán considerados en la evaluación final."
      ],
      "metadata": {
        "id": "15xl7tLEP6YA"
      }
    },
    {
      "cell_type": "markdown",
      "source": [
        "# Pregunta 1 (valor 2.5 puntos)\n",
        "\n",
        "Cuál es la señal obtenida en tiempo discreto al utilizar un conversor análogo digital de 5 bits con frecuencia de muestreo de $5kHz$, entrada análoga de -3.3 a 3.3 [v], aplicado a la señal continua $x(t) = 0.3 \\cos(1000\\pi t-\\pi/4) +\n",
        "0.6 \\sin(2000\\pi t) + 0.1 \\cos(11000\\pi t-\\pi)$?. Realizar la simulación del proceso de digitalización incluyendo al menos 3 ciclos de la señal $x(t)$.\n",
        "\n",
        "En caso de que la digitalización no sea apropiada, diseñe e implemente un conversor adecuado para la señal estudiada. El convesor debe permitir configurar la cantidad de bits, rango de la entrada análoga y la frecuencia de muestreo, indicándole al usuario si dicha frecuencia es apropiada o no, y graficar la señal continua, discreta y digital."
      ],
      "metadata": {
        "id": "jmI0zzVMRLNx"
      }
    },
    {
      "cell_type": "markdown",
      "source": [
        "# Pregunta 2 (valor 2.5 puntos)\n",
        "\n",
        "Se dispone de un sistema modelado como una \"caja negra\" (ver celdas de código). Su tarea es analizar y comprobar mediante simulaciones si el sistema cumple con las propiedades de linealidad e invariancia en el tiempo. En caso de que el sistema sea lineal e invariante con el tiempo, determine su respuesta al impulso y utilice esta respuesta para calcular la salida del sistema ante la siguiente señal:\n",
        "\n",
        "$x[n] = \\sin[100 \\pi n ] + \\sin[600 \\pi n]$"
      ],
      "metadata": {
        "id": "5Za-WbLpSele"
      }
    },
    {
      "cell_type": "code",
      "source": [
        "# cargar sistema\n",
        "FILEID = \"1J9rhh0wWHZSBd8XmWGt1ZpCsMDuoUFmm\"\n",
        "!wget --load-cookies /tmp/cookies.txt \"https://docs.google.com/uc?export=download&confirm=$(wget --quiet --save-cookies /tmp/cookies.txt --keep-session-cookies --no-check-certificate 'https://docs.google.com/uc?export=download&id='$FILEID -O- | sed -rn 's/.*confirm=([0-9A-Za-z_]+).*/\\1\\n/p')&id=\"$FILEID -O P1_model.zip && rm -rf /tmp/cookies.txt\n",
        "!unzip -o P1_model.zip\n",
        "!dir"
      ],
      "metadata": {
        "id": "6yJMMFK6zo5K"
      },
      "execution_count": null,
      "outputs": []
    },
    {
      "cell_type": "code",
      "source": [
        "import numpy as np\n",
        "import matplotlib.pyplot as plt\n",
        "import joblib\n",
        "from P1_model import system_\n",
        "from scipy.signal import firwin, freqz, lfilter, filtfilt\n",
        "\n",
        "#sistema pregunta 2\n",
        "my_system = system_.My_System()\n",
        "my_system.create_()\n",
        "fs = my_system.fs #frecuencia de muestreo\n",
        "t = np.arange(-0.01, 0.02, 1/fs)  # Tiempo\n",
        "signal_u = np.heaviside(t,1) # función heaviside\n",
        "y_u = my_system.predict(signal_u)\n",
        "\n",
        "\n",
        "# Visualización de las señales\n",
        "fig, axs = plt.subplots(2,1)\n",
        "axs[0].stem(t, signal_u, label='Señal de entrada')\n",
        "axs[0].set_xlabel('Tiempo (s)')\n",
        "axs[0].set_ylabel('Amplitud')\n",
        "axs[0].legend()\n",
        "axs[0].grid()\n",
        "axs[1].stem(t,y_u, label='Señal salida')\n",
        "axs[1].set_xlabel('Tiempo (s)')\n",
        "axs[1].set_ylabel('Amplitud')\n",
        "axs[1].legend()\n",
        "axs[1].grid()\n",
        "plt.tight_layout()\n",
        "plt.show()"
      ],
      "metadata": {
        "id": "nUX7Vr1fTUYW"
      },
      "execution_count": null,
      "outputs": []
    },
    {
      "cell_type": "markdown",
      "source": [
        "##verificación de linealidad y superposición#"
      ],
      "metadata": {
        "id": "qGQXefI08lVg"
      }
    },
    {
      "cell_type": "code",
      "source": [
        "import numpy as np\n",
        "import matplotlib.pyplot as plt\n",
        "from P1_model import system_\n",
        "\n",
        "# Crear el sistema\n",
        "my_system = system_.My_System()\n",
        "my_system.create_()\n",
        "fs = my_system.fs  # Frecuencia de muestreo\n",
        "t = np.arange(-0.01, 0.02, 1/fs)  # Tiempo\n",
        "\n",
        "# Definir las señales de entrada\n",
        "x1 = 5 * np.sin(2 * np.pi * t)  # x1(t) = 5*sin(2*pi*t)\n",
        "x2 = 6 * np.sin(4 * np.pi * t)  # x2(t) = 6*sin(4*pi*t)\n",
        "\n",
        "# Calcular la salida para la señal x1(t)\n",
        "y1 = my_system.predict(x1)\n",
        "\n",
        "# Calcular la salida para la señal x2(t)\n",
        "y2 = my_system.predict(x2)\n",
        "\n",
        "# Definir la combinación lineal de las señales: α * x1 + β * x2\n",
        "alpha = 2\n",
        "beta = 3\n",
        "x_combined = alpha * x1 + beta * x2\n",
        "\n",
        "# Calcular la salida para la combinación lineal de las señales\n",
        "y_combined = my_system.predict(x_combined)\n",
        "\n",
        "# Calcular la combinación lineal de las salidas: α * y1 + β * y2\n",
        "y_linear_combination = alpha * y1 + beta * y2\n",
        "\n",
        "# Visualización de la verificación de linealidad\n",
        "fig, axs = plt.subplots(2, 1, figsize=(10, 8))\n",
        "\n",
        "# Gráfico de la salida para la combinación lineal\n",
        "axs[0].plot(t, y_combined, label='Salida para la combinación lineal')\n",
        "axs[0].plot(t, y_linear_combination, label='Combinación lineal de salidas', linestyle='--')\n",
        "axs[0].set_xlabel('Tiempo (s)')\n",
        "axs[0].set_ylabel('Amplitud')\n",
        "axs[0].legend()\n",
        "axs[0].set_title('Verificación de Linealidad')\n",
        "axs[0].grid(True)\n",
        "\n",
        "# Gráfico de la entrada: combinación lineal de las señales\n",
        "axs[1].plot(t, x_combined, label='Combinación lineal de entradas')\n",
        "axs[1].legend()\n",
        "axs[1].set_xlabel('Tiempo (s)')\n",
        "axs[1].set_ylabel('Amplitud')\n",
        "axs[1].set_title('Entrada: Combinación lineal')\n",
        "axs[1].grid(True)\n",
        "\n",
        "plt.tight_layout()\n",
        "plt.show()\n",
        "\n",
        "# Comparación de los resultados\n",
        "print(\"La salida para la combinación lineal es igual a la combinación de las salidas individuales: \")\n",
        "if np.allclose(y_combined, y_linear_combination):\n",
        "    print(\"El sistema es lineal.\")\n",
        "else:\n",
        "    print(\"El sistema NO es lineal.\")\n"
      ],
      "metadata": {
        "id": "-uaJHztH497s"
      },
      "execution_count": null,
      "outputs": []
    },
    {
      "cell_type": "markdown",
      "source": [
        "##verificación de invarianza en el tiempo ##"
      ],
      "metadata": {
        "id": "15qu3yQa8e-c"
      }
    },
    {
      "cell_type": "code",
      "source": [
        "#sistema pregunta 2\n",
        "tau = 0.01\n",
        "my_system = system_.My_System()\n",
        "my_system.create_()\n",
        "fs = my_system.fs #frecuencia de muestreo\n",
        "t = np.arange(-0.01, 0.02, 1/fs)  # Tiempo\n",
        "signal_u = np.heaviside(t-tau,1) # función heaviside desplazada un valor tau asignado por el usuario\n",
        "y_u = my_system.predict(signal_u)\n",
        "\n",
        "\n",
        "# Visualización de las señales\n",
        "fig, axs = plt.subplots(2,1)\n",
        "axs[0].stem(t, signal_u, label='Señal de entrada')\n",
        "axs[0].set_xlabel('Tiempo (s)')\n",
        "axs[0].set_ylabel('Amplitud')\n",
        "axs[0].legend()\n",
        "axs[0].grid()\n",
        "axs[1].stem(t,y_u, label='Señal salida')\n",
        "axs[1].set_xlabel('Tiempo (s)')\n",
        "axs[1].set_ylabel('Amplitud')\n",
        "axs[1].legend()\n",
        "axs[1].grid()\n",
        "plt.tight_layout()\n",
        "plt.show()"
      ],
      "metadata": {
        "id": "XvOdeYUc4_QR"
      },
      "execution_count": null,
      "outputs": []
    },
    {
      "cell_type": "code",
      "source": [
        "import numpy as np\n",
        "import matplotlib.pyplot as plt\n",
        "from P1_model import system_\n",
        "\n",
        "# Crear el sistema\n",
        "my_system = system_.My_System()\n",
        "my_system.create_()\n",
        "fs = my_system.fs  # Frecuencia de muestreo\n",
        "t = np.arange(-0.01, 0.02, 1/fs)  # Tiempo\n",
        "\n",
        "# Generar el impulso discreto (Kronecker delta)\n",
        "impulse = np.zeros_like(t)\n",
        "impulse[len(t)//2] = 1  # Establecer el valor en n=0 (en el centro)\n",
        "\n",
        "# Aplicar la señal impulso al sistema\n",
        "y_impulse = my_system.predict(impulse)\n",
        "\n",
        "# Visualización de las señales\n",
        "fig, axs = plt.subplots(2, 1, figsize=(10, 8))\n",
        "\n",
        "# Señal de impulso\n",
        "axs[0].stem(t, impulse, label='Señal de entrada (impulso)', linefmt='b-', markerfmt='bo')\n",
        "axs[0].set_xlabel('Tiempo (s)')\n",
        "axs[0].set_ylabel('Amplitud')\n",
        "axs[0].legend()\n",
        "axs[0].grid(True)\n",
        "axs[0].set_title('Respuesta al Impulso: Señal de Entrada')\n",
        "\n",
        "# Respuesta del sistema (salida)\n",
        "axs[1].stem(t, y_impulse, label='Respuesta al impulso (salida)', linefmt='g-', markerfmt='go')\n",
        "axs[1].set_xlabel('Tiempo (s)')\n",
        "axs[1].set_ylabel('Amplitud')\n",
        "axs[1].legend()\n",
        "axs[1].grid(True)\n",
        "axs[1].set_title('Respuesta al Impulso del Sistema')\n",
        "\n",
        "plt.tight_layout()\n",
        "plt.show()\n"
      ],
      "metadata": {
        "id": "LLZctUCd9kgI"
      },
      "execution_count": null,
      "outputs": []
    },
    {
      "cell_type": "code",
      "source": [
        "import numpy as np\n",
        "import matplotlib.pyplot as plt\n",
        "from P1_model import system_\n",
        "\n",
        "# Crear el sistema\n",
        "my_system = system_.My_System()\n",
        "my_system.create_()\n",
        "fs = my_system.fs  # Frecuencia de muestreo\n",
        "t = np.arange(-0.01, 0.02, 1/fs)  # Tiempo\n",
        "\n",
        "# Generar el impulso discreto (Kronecker delta)\n",
        "impulse = np.zeros_like(t)\n",
        "impulse[len(t)//2] = 1  # Establecer el valor en n=0 (en el centro)\n",
        "\n",
        "# Aplicar la señal impulso al sistema\n",
        "y_impulse = my_system.predict(impulse)\n",
        "\n",
        "# Definir la señal de entrada: x[n] = sin(100πn) + sin(600πn)\n",
        "x_n = np.sin(100 * np.pi * t) + np.sin(600 * np.pi * t)\n",
        "\n",
        "# Convolución entre la señal de entrada x[n] y la respuesta al impulso h[n]\n",
        "y_n = np.convolve(x_n, y_impulse, mode='same')\n",
        "\n",
        "# Visualización de las señales\n",
        "fig, axs = plt.subplots(2, 1, figsize=(10, 8))\n",
        "\n",
        "# Señal de entrada x[n]\n",
        "axs[0].stem(t, x_n, label='Señal de entrada x[n]', linefmt='b-', markerfmt='bo')\n",
        "axs[0].set_xlabel('Tiempo (s)')\n",
        "axs[0].set_ylabel('Amplitud')\n",
        "axs[0].legend()\n",
        "axs[0].grid(True)\n",
        "axs[0].set_title('Señal de Entrada: x[n] = sin(100πn) + sin(600πn)')\n",
        "\n",
        "# Salida del sistema y[n] = x[n] * h[n]\n",
        "axs[1].stem(t, y_n, label='Salida del sistema y[n]', linefmt='g-', markerfmt='go')\n",
        "axs[1].set_xlabel('Tiempo (s)')\n",
        "axs[1].set_ylabel('Amplitud')\n",
        "axs[1].legend()\n",
        "axs[1].grid(True)\n",
        "axs[1].set_title('Salida del Sistema: y[n] = x[n] * h[n]')\n",
        "\n",
        "plt.tight_layout()\n",
        "plt.show()\n"
      ],
      "metadata": {
        "id": "G8dF-GbW9lbl"
      },
      "execution_count": null,
      "outputs": []
    }
  ]
}