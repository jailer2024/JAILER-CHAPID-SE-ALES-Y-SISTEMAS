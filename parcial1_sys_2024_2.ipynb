{
  "nbformat": 4,
  "nbformat_minor": 0,
  "metadata": {
    "colab": {
      "private_outputs": true,
      "provenance": [],
      "include_colab_link": true
    },
    "kernelspec": {
      "name": "python3",
      "display_name": "Python 3"
    },
    "language_info": {
      "name": "python"
    }
  },
  "cells": [
    {
      "cell_type": "markdown",
      "metadata": {
        "id": "view-in-github",
        "colab_type": "text"
      },
      "source": [
        "<a href=\"https://colab.research.google.com/github/jailer2024/JAILER-CHAPID-SE-ALES-Y-SISTEMAS/blob/main/parcial1_sys_2024_2.ipynb\" target=\"_parent\"><img src=\"https://colab.research.google.com/assets/colab-badge.svg\" alt=\"Open In Colab\"/></a>"
      ]
    },
    {
      "cell_type": "markdown",
      "source": [
        "# Parcial 1: Señales y Sistemas 2024-II\n",
        "\n",
        " ## Profesor: Andrés Marino Álvarez Meza, Ph.D.\n",
        "\n",
        "\n",
        "## Departamento de Ingeniería Eléctrica, Electrónica, y Computación\n",
        "## Universidad Nacional de Colombia - sede Manizales"
      ],
      "metadata": {
        "id": "1fWMHXCqNtQw"
      }
    },
    {
      "cell_type": "markdown",
      "source": [
        "# Instrucciones\n",
        "\n",
        "-- Para recibir el crédito total, sus respuestas deben estar justificadas de manera clara, detallada y concreta, mostrando los procedimientos y razonamientos paso a paso.\n",
        "\n",
        "-- Está permitido el uso de herramientas de inteligencia artificial (IA). Si las utiliza, por favor declare explícitamente cómo fueron empleadas en la resolución de cada pregunta. Incluya los prompts (consultas) y las iteraciones realizadas con las IA durante el desarrollo del parcial.\n",
        "\n",
        "-- La entrega del parcial debe realizarse antes de las 23:59 del 5 de diciembre de 2024 al correo electrónico amalvarezme@unal.edu.co mediante un enlace de GitHub.\n",
        "\n",
        "-- Los códigos deben estar debidamente comentados en las celdas correspondientes y explicados en celdas de texto (markdown). Los códigos que no incluyan comentarios ni discusiones no serán considerados en la evaluación final."
      ],
      "metadata": {
        "id": "15xl7tLEP6YA"
      }
    },
    {
      "cell_type": "markdown",
      "source": [
        "# Pregunta 1 (valor 2.5 puntos)\n",
        "\n",
        "Cuál es la señal obtenida en tiempo discreto al utilizar un conversor análogo digital de 5 bits con frecuencia de muestreo de $5kHz$, entrada análoga de -3.3 a 3.3 [v], aplicado a la señal continua $x(t) = 0.3 \\cos(1000\\pi t-\\pi/4) +\n",
        "0.6 \\sin(2000\\pi t) + 0.1 \\cos(11000\\pi t-\\pi)$?. Realizar la simulación del proceso de digitalización incluyendo al menos 3 ciclos de la señal $x(t)$.\n",
        "\n",
        "En caso de que la digitalización no sea apropiada, diseñe e implemente un conversor adecuado para la señal estudiada. El convesor debe permitir configurar la cantidad de bits, rango de la entrada análoga y la frecuencia de muestreo, indicándole al usuario si dicha frecuencia es apropiada o no, y graficar la señal continua, discreta y digital."
      ],
      "metadata": {
        "id": "jmI0zzVMRLNx"
      }
    },
    {
      "cell_type": "markdown",
      "source": [
        "SOLUCION"
      ],
      "metadata": {
        "id": "v2EwvI2-a_bt"
      }
    },
    {
      "cell_type": "markdown",
      "source": [
        "**GRAFICA DE LA SEÑAL CONTINUA X(t)**"
      ],
      "metadata": {
        "id": "C7gwSanfa67x"
      }
    },
    {
      "cell_type": "code",
      "source": [
        "\n",
        "print('Bienvenido señor usuario, en este programa vamos a mostrar la gráfica de la función x(t) mostrada en el ejercicio: ') #mensaje de bienvenida al usuario\n",
        "\n",
        "import matplotlib.pyplot as plt #importamos libreria para graficos\n",
        "import sympy as sym #importamos libreria para cálculo simbólico\n",
        "%matplotlib inline\n",
        "\n",
        "def pregunta_opcion():\n",
        "  respuesta = input('señor usuario, ¿le gustaría ajustar el tiempo de visualización de la señal x(t)? (si/no): ').lower()#pide respuesta y la transforma a minusculas\n",
        "  if respuesta == 'si' or respuesta == 'no':\n",
        "    return respuesta #si la respuesta es valida, el sistema la toma\n",
        "  else:\n",
        "    print('Error, solo se aceptan respuestas como si o no, por favor vuelva a correr el programa')\n",
        "\n",
        "#llamamos a la función\n",
        "opcion = pregunta_opcion()\n",
        "if opcion == 'si':\n",
        "  print('muy bien, vamos a realizar la acción solicitada: ')\n",
        "\n",
        "  print('por favor ingrese el rango de tiempo que desea visualizar en la gráfica')\n",
        "  x_size1 = input('desde donde: ')\n",
        "  x_size2 = input('hasta donde: ')\n",
        "  print('señal x(t): ')\n",
        "  x1 = float(x_size1)\n",
        "  x2 = float(x_size2)\n",
        "\n",
        "  t = sym.symbols('t', real=True)#se declara la variable simbólica t como variable temporal\n",
        "\n",
        "  #vamos a definir algunos parámetros importantes de las sub-funciones\n",
        "  A1 = 0.3 #amplitud, función 1\n",
        "  om1= 1000*sym.pi #velocidad angular de la funcion 1 (omega)\n",
        "  A2=0.6 #amplitud, fundión 2\n",
        "  om2=2000*sym.pi #velocidad angular de la funcion 2\n",
        "  A3=0.1 #amplitud de la función 3\n",
        "  om3=11000*sym.pi #velocidad angular de la función 3\n",
        "\n",
        "  #operación superposición en sympy\n",
        "  x = A1*sym.cos(om1*t-sym.pi/4) + A2*sym.sin(om2*t)+A3*sym.cos(om3*t-sym.pi)\n",
        "  #se grafica la señal resultante\n",
        "\n",
        "  title = r'$x(t) = 0.3 \\cos(1000\\pi t-\\pi/4) + 0.6 \\sin(2000\\pi t) + 0.1 \\cos(11000\\pi t-\\pi)$'\n",
        "  p = sym.plot(x, (t, x1, x2), ylim=[-1.2, 1.2], ylabel=r'$x(t)$', title = title, line_color = 'purple'); #definimos los limites de la grafica\n",
        "  #vamos a activar la visualización de cuadrícula del gráfico\n",
        "\n",
        "\n",
        "elif opcion == 'no':\n",
        "  print('muy bien, vamos a mostrar la gráfica con los valores de entrada pre-establecidos:')\n",
        "\n",
        "  t = sym.symbols('t', real=True)#se declara la variable simbólica t como variable temporal\n",
        "\n",
        "  #vamos a definir algunos parámetros importantes de las sub-funciones\n",
        "  A1 = 0.3 #amplitud, función 1\n",
        "  om1= 1000*sym.pi #velocidad angular de la funcion 1 (omega)\n",
        "  A2=0.6 #amplitud, fundión 2\n",
        "  om2=2000*sym.pi #velocidad angular de la funcion 2\n",
        "  A3=0.1 #amplitud de la función 3\n",
        "  om3=11000*sym.pi #velocidad angular de la función 3\n",
        "\n",
        "  #operación superposición en sympy\n",
        "  x = A1*sym.cos(om1*t-sym.pi/4) + A2*sym.sin(om2*t)+A3*sym.cos(om3*t-sym.pi)\n",
        "  #se grafica la señal resultante\n",
        "  title = r'$x(t) = 0.3 \\cos(1000\\pi t-\\pi/4) + 0.6 \\sin(2000\\pi t) + 0.1 \\cos(11000\\pi t-\\pi)$' #agregamos un titulo a la señal\n",
        "  p = sym.plot(x, (t,-5,5), ylim=[-1.2, 1.2], ylabel=r'$x(t)$', title = title, line_color = 'b'); #definimos los limites de la grafica\n",
        "  #vamos a activar la visualización de cuadrícula del gráfico"
      ],
      "metadata": {
        "id": "tLnn0qq5azv9"
      },
      "execution_count": null,
      "outputs": []
    },
    {
      "cell_type": "markdown",
      "source": [
        "**GRAFICA DE LA SEÑAL DISCRETA X[n]**"
      ],
      "metadata": {
        "id": "rlv_6fi2pxOl"
      }
    },
    {
      "cell_type": "code",
      "source": [
        "import numpy as np\n",
        "import matplotlib.pyplot as plt\n",
        "\n",
        "print('Bienvenido de nuevo señor usuario, en este programa vamos a mostrar la señal x(t) discretizada bajo ciertas condiciones') #mensaje de bienvenida al usuario\n",
        "print('para este ejercicio necesitamos que ingrése un valor de frecuencia de muestreo de la señal x[n]') #se explica que se necesita que ingrese un dato necesario para que el programa pueda funcionar\n",
        "print('al realizar el proceso de discretización es necesario ingresar una frecuencia de muestreo mayor o igual a 11 khz para que no se presente aliasing') # se le explica al usuario el límite de la frecuencia de muestreo a ingresar\n",
        "\n",
        "freq_muestreo1 = float(input('Por favor ingrese una frecuencia de muestreo para discretizar la señal: '))\n",
        "\n",
        "freq_muestreo = round(freq_muestreo1)\n",
        "if freq_muestreo < 11000:\n",
        "  print('Error: es necesario ingresar una frecuencia de muestreo entera mayor o igual a 11000 ')\n",
        "else:\n",
        "  print(f'muy bien, vamos a realizar el proceso de discretización con {freq_muestreo} hz: ')\n",
        "\n",
        "  def pregunta1():\n",
        "    respuesta1 = input('señor usuario, ¿le gustaría observar el tiempo de muestreo y la cantidad de muestras capturadas? (si/no): ').lower()#pide respuesta y la transforma a minusculas\n",
        "    if respuesta1 == 'si' or respuesta1 == 'no':\n",
        "      return respuesta1 #si la respuesta es valida, el sistema la toma\n",
        "    else:\n",
        "      print('Error: solo se aceptan respuestas como si o no, por favor vuelva a correr el programa')\n",
        "\n",
        "\n",
        "      #Datos señal continua x1(t)\n",
        "  A1=0.3 #amplitud\n",
        "  f1=500 #frecuencia\n",
        "  T1=1/f1 #periodo\n",
        "\n",
        "  #Datos señal continua x2(t)\n",
        "  A2=0.6 #amplitud\n",
        "  f2=1000  #frecuencia\n",
        "  T2=1/f2 #periodo\n",
        "\n",
        "  #Datos señal continua x3(t)\n",
        "  A3=0.1 #amplitud\n",
        "  f3=5500 #frecuencia\n",
        "  T3=1/f3#periodo\n",
        "\n",
        "  #Periodo de la señal cuasiperiodica\n",
        "  T=1/500\n",
        "\n",
        "  #Discretizar tiempo\n",
        "  ti=0 #tiempo inicial\n",
        "  tf=3*T #tiempo final\n",
        "  Fs=int(freq_muestreo) #frecuencia de muestreo\n",
        "  Ts=1/Fs #tiempo de muestreo\n",
        "\n",
        "  #Crear vector discretizado\n",
        "  tv=np.arange(ti,tf,Ts)\n",
        "\n",
        "   #llamamos a la función\n",
        "  opcion1 = pregunta1()\n",
        "  if opcion1 == 'si':\n",
        "    print('muy bien, vamos a realizar la acción solicitada: ')\n",
        "    print(tv)\n",
        "    print(tv.shape)\n",
        "\n",
        "      #Discretizar señal\n",
        "    xv=A1*np.cos((2*np.pi*f1*tv-np.pi/4))+A2*np.sin((2*np.pi*f2*tv))+A3*np.cos((2*np.pi*f3*tv-np.pi))\n",
        "\n",
        "    #imprimir señal discretizada\n",
        "    plt.stem(tv,xv)\n",
        "    plt.plot(tv,xv, color = 'green')\n",
        "    plt.title(\"señal x[t] discretizada: \")\n",
        "    plt.xlabel(\"tiempo [seg]\")\n",
        "    plt.ylabel(\"amplitud [V]\")\n",
        "    plt.grid()\n",
        "    plt.show()\n",
        "  elif opcion1 == 'no':\n",
        "\n",
        "    #Discretizar señal\n",
        "    xv=A1*np.cos((2*np.pi*f1*tv-np.pi/4))+A2*np.sin((2*np.pi*f2*tv))+A3*np.cos((2*np.pi*f3*tv-np.pi))\n",
        "\n",
        "    #imprimir señal discretizada\n",
        "    plt.stem(tv,xv)\n",
        "    plt.plot(tv,xv, color = 'green')\n",
        "    plt.title(\"señal x[t] discretizada: \")\n",
        "    plt.xlabel(\"tiempo [seg]\")\n",
        "    plt.ylabel(\"amplitud [V]\")\n",
        "    plt.grid()\n",
        "    plt.show()"
      ],
      "metadata": {
        "id": "qDZSj8pobF6t"
      },
      "execution_count": null,
      "outputs": []
    },
    {
      "cell_type": "markdown",
      "source": [
        "**CUANTIZACION Y DIGITALIZACION DE LA SEÑAL X[n].**"
      ],
      "metadata": {
        "id": "s8cL-goxbNpQ"
      }
    },
    {
      "cell_type": "code",
      "source": [
        "print('Bienvenido de nuevo señor usuario, en este ejercicio vamos a realizar el proceso de cuantización y digitalización de la señal x(t)')\n",
        "\n",
        "import numpy as np\n",
        "import matplotlib.pyplot as plt\n",
        "from scipy.spatial.distance import cdist\n",
        "\n",
        "print('vamos a definir el rango de entrada de la señal x(t) despues de cero y pendiente')\n",
        "entrada1 = float(input('de donde: '))\n",
        "entrada2 = float(input('hasta donde: '))\n",
        "\n",
        "num_bits = int(input('Por favor ingrese la cantidad de bits para la señal digital: '))\n",
        "\n",
        "if num_bits > 0:\n",
        "    #Datos señal continua x1(t)\n",
        "  A1=0.3 #amplitud\n",
        "  f1=500 #frecuencia\n",
        "  T1=1/f1 #periodo\n",
        "\n",
        "  #Datos señal continua x2(t)\n",
        "  A2=0.6 #amplitud\n",
        "  f2=1000  #frecuencia\n",
        "  T2=1/f2 #periodo\n",
        "\n",
        "  #Datos señal continua x3(t)\n",
        "  A3=0.1 #amplitud\n",
        "  f3=5500 #frecuencia\n",
        "  T3=1/f3#periodo\n",
        "\n",
        "  #Periodo de la señal cuasiperiodica\n",
        "  T=1/500\n",
        "\n",
        "  #Discretizar tiempo\n",
        "  ti=0 #tiempo inicial\n",
        "  tf=3*T #tiempo final\n",
        "  Fs=float(freq_muestreo) #frecuencia de muestreo cumpliendo Nyquist\n",
        "  Ts=1/Fs #tiempo de muestreo\n",
        "  #Crear vector discretizado\n",
        "  tv=np.arange(ti,tf,Ts)\n",
        "  print(tv)\n",
        "  print(tv.shape)\n",
        "\n",
        "  #Discretizar señal\n",
        "  xv=A1*np.cos((2*np.pi*f1*tv-np.pi/4))+A2*np.sin((2*np.pi*f2*tv))+A3*np.cos((2*np.pi*f3*tv-np.pi))\n",
        "  print(xv)\n",
        "  print(xv.shape)\n",
        "  print('señal x(t) cuantizada y digitalizada: ')\n",
        "\n",
        "  #Cuantización de la señal\n",
        "\n",
        "  #Acondicionar la señal (modificar amplitud)\n",
        "  y_max=entrada2\n",
        "  y_min=entrada1\n",
        "  def modificar_amplitud (x,ymin,ymax):\n",
        "  #Vamos a hallar la pendiente\n",
        "    xmin=min(x) #Esta función me saca el minimo de la señal discretizada\n",
        "    xmax=max(x) #Esta función me saca el maximo de la señal discretizada\n",
        "    m=(ymax-ymin)/(xmax-xmin) #Aquí modificamos la pendiente para escalar la señal y que el dispositivo que trabaja de 4mA a 20mA la reciba de 4mA a 20mA\n",
        "    c=ymax-m*xmax #Hallamos la c, porque la ecuación y=mx+c lo requiere y para que se mantenga la forma de la señal original\n",
        "    yv=m*x+c #aqui calculamos la señal discretizada de 4mA a 20mA\n",
        "    return yv\n",
        "\n",
        "  #vamos a pasarle los datos a la función modificar_amplitud para que nos calcule la señal acondicionada (yv)\n",
        "  yv= modificar_amplitud(xv,y_min,y_max)\n",
        "\n",
        "  #número de bits y vector de cuantización\n",
        "  nbits = int(num_bits)\n",
        "  rmin = entrada1\n",
        "  rmax = entrada2\n",
        "  ve = np.linspace(rmin,rmax,2**nbits) # (rmax-rmin)/(2^#bits - 1) -> si se quiere incluir rmin y rmax\n",
        "\n",
        "  #distancias y cero pendiente a vector cuantizacion\n",
        "  d = cdist(yv.reshape(-1,1),ve.reshape(-1,1)) #se utiliza reshape(-1,1) para generar vectores columna como lo pide cdist\n",
        "  d.shape\n",
        "  #función cuantización punto a punto\n",
        "\n",
        "  def my_cuantizador(yn, vq) : #yn punto a #cuantizar, vq vector de estados\n",
        "\n",
        "    Ne = vq.shape[0] #tamaño vector de estados\n",
        "    dn = cdist(yn.reshape(-1,1),vq.reshape(-1,1))#distancia yn a vector estados, reshape(-1,1) asegura vectores columna para poder utilizar cdist\n",
        "    ind = np.argmin(dn) #posición distancia min\n",
        "    return vq[ind]\n",
        "\n",
        "  #recorrer vector cero y spam discretizado para cuantizar\n",
        "  for i in range(yv.shape[0]):\n",
        "    if i==0: #primera muestra\n",
        "      yq = my_cuantizador(yv[i],ve)\n",
        "    else:\n",
        "      yq = np.append(yq,my_cuantizador(yv[i],ve)) #apilar datos cuantizando si i>0\n",
        "\n",
        "  #graficar señal dsicreta\n",
        "  plt.stem(tv,yv, label='ycs_dis')#cs discreta\n",
        "  #estados de cuantización\n",
        "  for v in ve:\n",
        "    plt.plot(tv,v*np.ones(len(tv)))\n",
        "    # graficar señal Digital (discreta + cuantizada)\n",
        "  plt.plot(tv,yq,c='y',marker='o',label='ydig', linewidth=2)\n",
        "\n",
        "  plt.legend()\n",
        "  plt.grid()\n",
        "  plt.xlabel('t[Seg]')\n",
        "  plt.ylabel('Amplitud [A]')\n",
        "  plt.show()\n",
        "else:\n",
        "  print('Error: por favor ingrese un número de bits mayor a 0, por favor vuelva a correr el programa ')"
      ],
      "metadata": {
        "id": "2vBXS3IHbQ-x"
      },
      "execution_count": null,
      "outputs": []
    },
    {
      "cell_type": "markdown",
      "source": [
        "# Pregunta 2 (valor 2.5 puntos)\n",
        "\n",
        "Se dispone de un sistema modelado como una \"caja negra\" (ver celdas de código). Su tarea es analizar y comprobar mediante simulaciones si el sistema cumple con las propiedades de linealidad e invariancia en el tiempo. En caso de que el sistema sea lineal e invariante con el tiempo, determine su respuesta al impulso y utilice esta respuesta para calcular la salida del sistema ante la siguiente señal:\n",
        "\n",
        "$x[n] = \\sin[100 \\pi n ] + \\sin[600 \\pi n]$"
      ],
      "metadata": {
        "id": "5Za-WbLpSele"
      }
    },
    {
      "cell_type": "markdown",
      "source": [
        "**SOLUCION**"
      ],
      "metadata": {
        "id": "n6nJpZL_u9oh"
      }
    },
    {
      "cell_type": "code",
      "source": [
        "# cargar sistema\n",
        "FILEID = \"1J9rhh0wWHZSBd8XmWGt1ZpCsMDuoUFmm\"\n",
        "!wget --load-cookies /tmp/cookies.txt \"https://docs.google.com/uc?export=download&confirm=$(wget --quiet --save-cookies /tmp/cookies.txt --keep-session-cookies --no-check-certificate 'https://docs.google.com/uc?export=download&id='$FILEID -O- | sed -rn 's/.*confirm=([0-9A-Za-z_]+).*/\\1\\n/p')&id=\"$FILEID -O P1_model.zip && rm -rf /tmp/cookies.txt\n",
        "!unzip -o P1_model.zip\n",
        "!dir"
      ],
      "metadata": {
        "id": "6yJMMFK6zo5K"
      },
      "execution_count": null,
      "outputs": []
    },
    {
      "cell_type": "code",
      "source": [
        "import numpy as np\n",
        "import matplotlib.pyplot as plt\n",
        "import joblib\n",
        "from P1_model import system_\n",
        "from scipy.signal import firwin, freqz, lfilter, filtfilt\n",
        "\n",
        "#sistema pregunta 2\n",
        "my_system = system_.My_System()\n",
        "my_system.create_()\n",
        "fs = my_system.fs #frecuencia de muestreo\n",
        "t = np.arange(-0.01, 0.02, 1/fs)  # Tiempo\n",
        "signal_u = np.heaviside(t,1) # función heaviside\n",
        "y_u = my_system.predict(signal_u)\n",
        "\n",
        "\n",
        "# Visualización de las señales\n",
        "fig, axs = plt.subplots(2,1)\n",
        "axs[0].stem(t, signal_u, label='Señal de entrada')\n",
        "axs[0].set_xlabel('Tiempo (s)')\n",
        "axs[0].set_ylabel('Amplitud')\n",
        "axs[0].legend()\n",
        "axs[0].grid()\n",
        "axs[1].stem(t,y_u, label='Señal salida')\n",
        "axs[1].set_xlabel('Tiempo (s)')\n",
        "axs[1].set_ylabel('Amplitud')\n",
        "axs[1].legend()\n",
        "axs[1].grid()\n",
        "plt.tight_layout()\n",
        "plt.show()"
      ],
      "metadata": {
        "id": "nUX7Vr1fTUYW"
      },
      "execution_count": null,
      "outputs": []
    },
    {
      "cell_type": "markdown",
      "source": [
        "**a)VERIFICAR SI EL SISTEMA ES LINEAL**"
      ],
      "metadata": {
        "id": "qGQXefI08lVg"
      }
    },
    {
      "cell_type": "markdown",
      "source": [
        "Un sistema es lineal si la salida debido a la suma de dos entradas individuales es igual a la suma de las salidas individuales correspondientes. Matemáticamente:\n",
        "\n",
        "Si la entrada\n",
        "𝑥\n",
        "1\n",
        "(\n",
        "𝑡\n",
        ")\n",
        "x\n",
        "1\n",
        "​\n",
        " (t) produce la salida\n",
        "𝑦\n",
        "1\n",
        "(\n",
        "𝑡\n",
        ")\n",
        "y\n",
        "1\n",
        "​\n",
        " (t), y la entrada\n",
        "𝑥\n",
        "2\n",
        "(\n",
        "𝑡\n",
        ")\n",
        "x\n",
        "2\n",
        "​\n",
        " (t) produce la salida\n",
        "𝑦\n",
        "2\n",
        "(\n",
        "𝑡\n",
        ")\n",
        "y\n",
        "2\n",
        "​\n",
        " (t), entonces:\n",
        "\n",
        "𝑥\n",
        "1\n",
        "(\n",
        "𝑡\n",
        ")\n",
        "+\n",
        "𝑥\n",
        "2\n",
        "(\n",
        "𝑡\n",
        ")\n",
        "\n",
        "⟹\n",
        "\n",
        "𝑦\n",
        "1\n",
        "(\n",
        "𝑡\n",
        ")\n",
        "+\n",
        "𝑦\n",
        "2\n",
        "(\n",
        "𝑡\n",
        ")\n",
        "x\n",
        "1\n",
        "​\n",
        " (t)+x\n",
        "2\n",
        "​\n",
        " (t)⟹y\n",
        "1\n",
        "​\n",
        " (t)+y\n",
        "2\n",
        "​\n",
        " (t)"
      ],
      "metadata": {
        "id": "QyvHnlgRwNGe"
      }
    },
    {
      "cell_type": "code",
      "source": [
        "import numpy as np\n",
        "import matplotlib.pyplot as plt\n",
        "from P1_model import system_\n",
        "\n",
        "# Crear el sistema\n",
        "my_system = system_.My_System()\n",
        "my_system.create_()\n",
        "fs = my_system.fs  # Frecuencia de muestreo\n",
        "t = np.arange(-0.01, 0.02, 1/fs)  # Tiempo\n",
        "\n",
        "# Definir las señales de entrada\n",
        "x1 = 5 * np.sin(2 * np.pi * t)  # x1(t) = 5*sin(2*pi*t)\n",
        "x2 = 6 * np.sin(4 * np.pi * t)  # x2(t) = 6*sin(4*pi*t)\n",
        "\n",
        "# Calcular la salida para la señal x1(t)\n",
        "y1 = my_system.predict(x1)\n",
        "\n",
        "# Calcular la salida para la señal x2(t)\n",
        "y2 = my_system.predict(x2)\n",
        "\n",
        "# Definir la combinación lineal de las señales: α * x1 + β * x2\n",
        "alpha = 2\n",
        "beta = 3\n",
        "x_combined = alpha * x1 + beta * x2\n",
        "\n",
        "# Calcular la salida para la combinación lineal de las señales\n",
        "y_combined = my_system.predict(x_combined)\n",
        "\n",
        "# Calcular la combinación lineal de las salidas: α * y1 + β * y2\n",
        "y_linear_combination = alpha * y1 + beta * y2\n",
        "\n",
        "# Visualización de la verificación de linealidad\n",
        "fig, axs = plt.subplots(2, 1, figsize=(5, 5))\n",
        "\n",
        "# Gráfico de la salida para la combinación lineal\n",
        "axs[0].plot(t, y_combined, label='Salida para la combinación lineal')\n",
        "axs[0].plot(t, y_linear_combination, label='Combinación lineal de salidas', linestyle='--')\n",
        "axs[0].set_xlabel('Tiempo (s)')\n",
        "axs[0].set_ylabel('Amplitud')\n",
        "axs[0].legend()\n",
        "axs[0].set_title('Verificación de Linealidad')\n",
        "axs[0].grid(True)\n",
        "\n",
        "# Gráfico de la entrada: combinación lineal de las señales\n",
        "axs[1].plot(t, x_combined, label='Combinación lineal de entradas')\n",
        "axs[1].legend()\n",
        "axs[1].set_xlabel('Tiempo (s)')\n",
        "axs[1].set_ylabel('Amplitud')\n",
        "axs[1].set_title('Entrada: Combinación lineal')\n",
        "axs[1].grid(True)\n",
        "\n",
        "plt.tight_layout()\n",
        "plt.show()\n",
        "\n",
        "\n"
      ],
      "metadata": {
        "id": "-uaJHztH497s"
      },
      "execution_count": null,
      "outputs": []
    },
    {
      "cell_type": "markdown",
      "source": [
        "Se comprobo que el sistema es lineal utilizando el teorema de superposicion y considerando la siguiente señal x(t) = 5*sin(2*pi*t)+6*sin(4*pi*t) se obtuvo la misma salida para cuando se evalua el todo y para cuando se evalua por partes."
      ],
      "metadata": {
        "id": "tMoC0D6dfrBr"
      }
    },
    {
      "cell_type": "markdown",
      "source": [
        "b) **VERIFICAION DE INVARIANZA CON EL TIEMPO DEL SLIT, LA SEÑAL SE DESPLAZO EN TAU=0.01**"
      ],
      "metadata": {
        "id": "15qu3yQa8e-c"
      }
    },
    {
      "cell_type": "code",
      "source": [
        "#sistema pregunta 2\n",
        "tau = 0.01\n",
        "my_system = system_.My_System()\n",
        "my_system.create_()\n",
        "fs = my_system.fs #frecuencia de muestreo\n",
        "t = np.arange(-0.01, 0.02, 1/fs)  # Tiempo\n",
        "signal_u = np.heaviside(t-tau,1) # función heaviside desplazada un valor tau asignado por el usuario\n",
        "y_u = my_system.predict(signal_u)\n",
        "\n",
        "\n",
        "# Visualización de las señales\n",
        "fig, axs = plt.subplots(2,1)\n",
        "axs[0].stem(t, signal_u, label='Señal de entrada')\n",
        "axs[0].set_xlabel('Tiempo (s)')\n",
        "axs[0].set_ylabel('Amplitud')\n",
        "axs[0].legend()\n",
        "axs[0].grid()\n",
        "axs[1].stem(t,y_u, label='Señal salida')\n",
        "axs[1].set_xlabel('Tiempo (s)')\n",
        "axs[1].set_ylabel('Amplitud')\n",
        "axs[1].legend()\n",
        "axs[1].grid()\n",
        "plt.tight_layout()\n",
        "plt.show()"
      ],
      "metadata": {
        "id": "XvOdeYUc4_QR"
      },
      "execution_count": null,
      "outputs": []
    },
    {
      "cell_type": "markdown",
      "source": [
        "se verifico que el sistema es invariante con el tiempo al desplazarla señal heaviside de entrada, se obtuvo que la salida tambien se desplazo"
      ],
      "metadata": {
        "id": "eLxclZjFgcBl"
      }
    },
    {
      "cell_type": "markdown",
      "source": [
        "c) Determinando su respuesta impulso."
      ],
      "metadata": {
        "id": "4hVq-XL5bnQw"
      }
    },
    {
      "cell_type": "code",
      "source": [
        "import numpy as np\n",
        "import matplotlib.pyplot as plt\n",
        "from P1_model import system_\n",
        "\n",
        "# Crear el sistema\n",
        "my_system = system_.My_System()\n",
        "my_system.create_()\n",
        "fs = my_system.fs  # Frecuencia de muestreo\n",
        "t = np.arange(-0.01, 0.02, 1/fs)  # Tiempo\n",
        "\n",
        "# Generar el impulso discreto (Kronecker delta)\n",
        "impulse = np.zeros_like(t)\n",
        "impulse[len(t)//2] = 1  # Establecer el valor en n=0 (en el centro)\n",
        "\n",
        "# Aplicar la señal impulso al sistema\n",
        "y_impulse = my_system.predict(impulse)\n",
        "\n",
        "# Visualización de las señales\n",
        "fig, axs = plt.subplots(2, 1, figsize=(5, 5))\n",
        "\n",
        "# Señal de impulso\n",
        "axs[0].stem(t, impulse, label='Señal de entrada (impulso)', linefmt='b-', markerfmt='bo')\n",
        "axs[0].set_xlabel('Tiempo (s)')\n",
        "axs[0].set_ylabel('Amplitud')\n",
        "axs[0].legend()\n",
        "axs[0].grid(True)\n",
        "axs[0].set_title('Respuesta al Impulso: Señal de Entrada')\n",
        "\n",
        "# Respuesta del sistema (salida)\n",
        "axs[1].stem(t, y_impulse, label='Respuesta al impulso (salida)', linefmt='g-', markerfmt='go')\n",
        "axs[1].set_xlabel('Tiempo (s)')\n",
        "axs[1].set_ylabel('Amplitud')\n",
        "axs[1].legend()\n",
        "axs[1].grid(True)\n",
        "axs[1].set_title('Respuesta al Impulso del Sistema')\n",
        "\n",
        "plt.tight_layout()\n",
        "plt.show()\n"
      ],
      "metadata": {
        "id": "LLZctUCd9kgI"
      },
      "execution_count": null,
      "outputs": []
    },
    {
      "cell_type": "markdown",
      "source": [
        "d) calcular la salida del sistema ante la siguiente señal:\n",
        "\n",
        "x[n]=sin[100πn]+sin[600πn]"
      ],
      "metadata": {
        "id": "hob12KpDb9Fj"
      }
    },
    {
      "cell_type": "code",
      "source": [
        "import numpy as np\n",
        "import matplotlib.pyplot as plt\n",
        "from P1_model import system_\n",
        "\n",
        "# Crear el sistema\n",
        "my_system = system_.My_System()\n",
        "my_system.create_()\n",
        "fs = my_system.fs  # Frecuencia de muestreo\n",
        "t = np.arange(-0.01, 0.02, 1/fs)  # Tiempo\n",
        "\n",
        "# Generar el impulso discreto (Kronecker delta)\n",
        "impulse = np.zeros_like(t)\n",
        "impulse[len(t)//2] = 1  # Establecer el valor en n=0 (en el centro)\n",
        "\n",
        "# Aplicar la señal impulso al sistema\n",
        "y_impulse = my_system.predict(impulse)\n",
        "\n",
        "# Definir la señal de entrada: x[n] = sin(100πn) + sin(600πn)\n",
        "x_n = np.sin(100 * np.pi * t) + np.sin(600 * np.pi * t)\n",
        "\n",
        "# Convolución entre la señal de entrada x[n] y la respuesta al impulso h[n]\n",
        "y_n = np.convolve(x_n, y_impulse, mode='same')\n",
        "\n",
        "# Visualización de las señales\n",
        "fig, axs = plt.subplots(2, 1, figsize=(5, 5))\n",
        "\n",
        "# Señal de entrada x[n]\n",
        "axs[0].stem(t, x_n, label='Señal de entrada x[n]', linefmt='b-', markerfmt='bo')\n",
        "axs[0].set_xlabel('Tiempo (s)')\n",
        "axs[0].set_ylabel('Amplitud')\n",
        "axs[0].legend()\n",
        "axs[0].grid(True)\n",
        "axs[0].set_title('Señal de Entrada: x[n] = sin(100πn) + sin(600πn)')\n",
        "\n",
        "# Salida del sistema y[n] = x[n] * h[n]\n",
        "axs[1].stem(t, y_n, label='Salida del sistema y[n]', linefmt='g-', markerfmt='go')\n",
        "axs[1].set_xlabel('Tiempo (s)')\n",
        "axs[1].set_ylabel('Amplitud')\n",
        "axs[1].legend()\n",
        "axs[1].grid(True)\n",
        "axs[1].set_title('Salida del Sistema: y[n] = x[n] * h[n]')\n",
        "\n",
        "plt.tight_layout()\n",
        "plt.show()\n"
      ],
      "metadata": {
        "id": "G8dF-GbW9lbl"
      },
      "execution_count": null,
      "outputs": []
    }
  ]
}